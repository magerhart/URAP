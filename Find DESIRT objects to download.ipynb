{
 "cells": [
  {
   "cell_type": "code",
   "execution_count": 63,
   "id": "c279ddd8-3ee0-4036-8ed7-26bc8c8c1b18",
   "metadata": {},
   "outputs": [],
   "source": [
    "import sys\n",
    "import pandas as pd\n",
    "import matplotlib.pyplot as plt\n",
    "import matplotlib\n",
    "import numpy as np\n",
    "import astropy.io.fits as pyfits\n",
    "import astropy.utils as autils\n",
    "import requests\n",
    "import json\n",
    "from pprint import pprint as pp "
   ]
  },
  {
   "cell_type": "code",
   "execution_count": 64,
   "id": "2a8c55a8-41b1-4f2d-bb47-f295c5fb387b",
   "metadata": {},
   "outputs": [
    {
     "data": {
      "text/plain": [
       "'https://astroarchive.noirlab.edu/api/adv_search'"
      ]
     },
     "execution_count": 64,
     "metadata": {},
     "output_type": "execute_result"
    }
   ],
   "source": [
    "# define database search\n",
    "natroot = \"https://astroarchive.noirlab.edu\"\n",
    "adsurl = f'{natroot}/api/adv_search'\n",
    "adsurl"
   ]
  },
  {
   "cell_type": "code",
   "execution_count": 65,
   "id": "0750ce69-8e5f-46e5-bc57-c8fcfa5c0e58",
   "metadata": {},
   "outputs": [
    {
     "name": "stdout",
     "output_type": "stream",
     "text": [
      "Using API url: https://astroarchive.noirlab.edu/api/adv_search/find/?limit=1\n"
     ]
    },
    {
     "data": {
      "text/html": [
       "<div>\n",
       "<style scoped>\n",
       "    .dataframe tbody tr th:only-of-type {\n",
       "        vertical-align: middle;\n",
       "    }\n",
       "\n",
       "    .dataframe tbody tr th {\n",
       "        vertical-align: top;\n",
       "    }\n",
       "\n",
       "    .dataframe thead th {\n",
       "        text-align: right;\n",
       "    }\n",
       "</style>\n",
       "<table border=\"1\" class=\"dataframe\">\n",
       "  <thead>\n",
       "    <tr style=\"text-align: right;\">\n",
       "      <th></th>\n",
       "      <th>obs_type</th>\n",
       "      <th>release_date</th>\n",
       "      <th>proposal</th>\n",
       "      <th>caldat</th>\n",
       "      <th>proc_type</th>\n",
       "      <th>archive_filename</th>\n",
       "      <th>instrument</th>\n",
       "      <th>md5sum</th>\n",
       "      <th>ra_min</th>\n",
       "      <th>EXPNUM</th>\n",
       "      <th>AIRMASS</th>\n",
       "    </tr>\n",
       "  </thead>\n",
       "  <tbody>\n",
       "    <tr>\n",
       "      <th>0</th>\n",
       "      <td>object</td>\n",
       "      <td>2022-10-07</td>\n",
       "      <td>2022B-297190</td>\n",
       "      <td>2022-10-07</td>\n",
       "      <td>instcal</td>\n",
       "      <td>/net/archive/pipe/20221007/ct4m/2022B-297190/c...</td>\n",
       "      <td>decam</td>\n",
       "      <td>e61286b0f6fb4150b0e402befdfc49cb</td>\n",
       "      <td>45.162625</td>\n",
       "      <td>1139459</td>\n",
       "      <td>1.03</td>\n",
       "    </tr>\n",
       "  </tbody>\n",
       "</table>\n",
       "</div>"
      ],
      "text/plain": [
       "  obs_type release_date      proposal      caldat proc_type  \\\n",
       "0   object   2022-10-07  2022B-297190  2022-10-07   instcal   \n",
       "\n",
       "                                    archive_filename instrument  \\\n",
       "0  /net/archive/pipe/20221007/ct4m/2022B-297190/c...      decam   \n",
       "\n",
       "                             md5sum     ra_min   EXPNUM  AIRMASS  \n",
       "0  e61286b0f6fb4150b0e402befdfc49cb  45.162625  1139459     1.03  "
      ]
     },
     "execution_count": 65,
     "metadata": {},
     "output_type": "execute_result"
    }
   ],
   "source": [
    "jj = {\n",
    "    \"outfields\" : [\n",
    "        \"md5sum\",\n",
    "        \"ra_min\",  # \"ra\" is a \"range_field\" in Postgres, access either part of range\n",
    "        \"archive_filename\",\n",
    "        \"instrument\",\n",
    "        \"proc_type\",\n",
    "        \"obs_type\",\n",
    "        \"release_date\",\n",
    "        \"proposal\",\n",
    "        \"caldat\",\n",
    "        \"EXPNUM\",    # AUX field. Slows search\n",
    "        \"AIRMASS\",\n",
    "    ],\n",
    "    \"search\" : [\n",
    "        [\"instrument\", \"decam\"],\n",
    "        [\"proc_type\", \"instcal\"],\n",
    "        [\"prod_type\", \"image\", \"dqmask\"],\n",
    "        [\"proposal\", \"2022B-297190\"],\n",
    "        [\"obs_type\", \"object\"],\n",
    "        \n",
    "    ]\n",
    "}\n",
    "apiurl = f'{adsurl}/find/?limit=1'\n",
    "print(f'Using API url: {apiurl}')\n",
    "objects = pd.DataFrame(requests.post(apiurl,json=jj).json()[1:])\n",
    "objects"
   ]
  },
  {
   "cell_type": "code",
   "execution_count": 66,
   "id": "d1a0820b-bf1f-4372-a07b-52dce29c933a",
   "metadata": {},
   "outputs": [
    {
     "name": "stdout",
     "output_type": "stream",
     "text": [
      "e61286b0f6fb4150b0e402befdfc49cb\n",
      "https://astroarchive.noirlab.edu/api/retrieve/e61286b0f6fb4150b0e402befdfc49cb\n"
     ]
    },
    {
     "data": {
      "text/plain": [
       "<Response [404]>"
      ]
     },
     "execution_count": 66,
     "metadata": {},
     "output_type": "execute_result"
    }
   ],
   "source": [
    "fileID = objects['md5sum'][0]\n",
    "print(fileID)\n",
    "\n",
    "fileurl = f'{natroot}/api/retrieve/{fileID}'\n",
    "print(fileurl)\n",
    "\n",
    "requests.get(fileurl)"
   ]
  },
  {
   "cell_type": "code",
   "execution_count": null,
   "id": "77bdab86-536e-428f-b50d-1386df94bd0c",
   "metadata": {},
   "outputs": [],
   "source": []
  },
  {
   "cell_type": "code",
   "execution_count": null,
   "id": "4cd421c5-f53c-47b0-8131-6279c12c4b4b",
   "metadata": {},
   "outputs": [],
   "source": []
  },
  {
   "cell_type": "code",
   "execution_count": null,
   "id": "499c2d5d-d755-4932-99b2-259539859148",
   "metadata": {},
   "outputs": [],
   "source": []
  }
 ],
 "metadata": {
  "kernelspec": {
   "display_name": "NERSC Python",
   "language": "python",
   "name": "python3"
  },
  "language_info": {
   "codemirror_mode": {
    "name": "ipython",
    "version": 3
   },
   "file_extension": ".py",
   "mimetype": "text/x-python",
   "name": "python",
   "nbconvert_exporter": "python",
   "pygments_lexer": "ipython3",
   "version": "3.9.7"
  }
 },
 "nbformat": 4,
 "nbformat_minor": 5
}
